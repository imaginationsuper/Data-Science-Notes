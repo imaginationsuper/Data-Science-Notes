{
 "cells": [
  {
   "cell_type": "markdown",
   "metadata": {},
   "source": [
    "Example of NLP on webpage text using NLTK python packages\n",
    "\n",
    "Reference:\n",
    "[The Glowing Python Blog](http://glowingpython.blogspot.in/2014/09/text-summarization-with-nltk.html)"
   ]
  },
  {
   "cell_type": "code",
   "execution_count": 1,
   "metadata": {
    "collapsed": false
   },
   "outputs": [],
   "source": [
    "# -*- coding: utf-8 -*-\n",
    "# Import and use customized class\n",
    "from FrequencySummarizer import FrequencySummarizer"
   ]
  },
  {
   "cell_type": "code",
   "execution_count": 2,
   "metadata": {
    "collapsed": true
   },
   "outputs": [],
   "source": [
    "import urllib2\n",
    "from bs4 import BeautifulSoup"
   ]
  },
  {
   "cell_type": "code",
   "execution_count": 3,
   "metadata": {
    "collapsed": true
   },
   "outputs": [],
   "source": [
    "def get_only_text_washington_post_url(url):\n",
    "    hdr = {'User-Agent':'Mozilla/5.0'}\n",
    "    request = urllib2.Request(url, headers=hdr)\n",
    "    page = urllib2.urlopen(request).read().decode('utf-8')\n",
    "    soup = BeautifulSoup(page, \"lxml\") # parse in html format\n",
    "    text = ' '.join(map(lambda p: p.text, soup.find_all('article'))) # get text between all article tags\n",
    "    soup2 = BeautifulSoup(text, \"lxml\")\n",
    "    if soup2.find_all('p')!=[]:\n",
    "        text = ' '.join(map(lambda p: p.text, soup2.find_all('p'))) # parse all <p></p> tags if any\n",
    "        \n",
    "    return soup.title.text, text # return in tuple"
   ]
  },
  {
   "cell_type": "code",
   "execution_count": 4,
   "metadata": {
    "collapsed": false
   },
   "outputs": [],
   "source": [
    "targetUrl = \"https://www.washingtonpost.com/news/the-switch/wp/2015/08/06/why-kids-are-meeting-more-strangers-online-than-ever-before/\"\n",
    "textOfUrl = get_only_text_washington_post_url(targetUrl)"
   ]
  },
  {
   "cell_type": "code",
   "execution_count": 5,
   "metadata": {
    "collapsed": false
   },
   "outputs": [],
   "source": [
    "fs = FrequencySummarizer()\n",
    "summary = fs.summarize(textOfUrl[1], 3)"
   ]
  },
  {
   "cell_type": "code",
   "execution_count": 6,
   "metadata": {
    "collapsed": false
   },
   "outputs": [
    {
     "name": "stdout",
     "output_type": "stream",
     "text": [
      "\"The digital world has taken its place alongside school and friends' houses and extracurriculars as a place where teens go to make and strengthen friendships,\" said Amanda Lenhart, author of the report \"Teens, Technology & Friendships\" and an associate director of research at Pew. \"Young people are very aware that people have highly curated images and that text fights can quickly go out of control and they are trying to sort it all out,\" said Rosalind Wiseman, author of \"Queen Bees and Wannabes\" and speaker on youth issues. Nearly half of those surveyed say they've at least occasionally seen posts about events that they were invited to; and 85 percent said they think social media users present a carefully crafted image of themselves online that may not be authentic.\n"
     ]
    }
   ],
   "source": [
    "print(' '.join(summary))"
   ]
  },
  {
   "cell_type": "code",
   "execution_count": null,
   "metadata": {
    "collapsed": true
   },
   "outputs": [],
   "source": []
  }
 ],
 "metadata": {
  "kernelspec": {
   "display_name": "Python 2",
   "language": "python",
   "name": "python2"
  },
  "language_info": {
   "codemirror_mode": {
    "name": "ipython",
    "version": 2
   },
   "file_extension": ".py",
   "mimetype": "text/x-python",
   "name": "python",
   "nbconvert_exporter": "python",
   "pygments_lexer": "ipython2",
   "version": "2.7.13"
  }
 },
 "nbformat": 4,
 "nbformat_minor": 0
}
