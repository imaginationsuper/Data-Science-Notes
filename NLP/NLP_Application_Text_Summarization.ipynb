{
 "cells": [
  {
   "cell_type": "markdown",
   "metadata": {},
   "source": [
    "Example of NLP on webpage text using NLTK python packages\n",
    "\n",
    "Reference:\n",
    "[The Glowing Python Blog](http://glowingpython.blogspot.in/2014/09/text-summarization-with-nltk.html)"
   ]
  },
  {
   "cell_type": "code",
   "execution_count": 2,
   "metadata": {
    "collapsed": false
   },
   "outputs": [
    {
     "ename": "SyntaxError",
     "evalue": "encoding problem: uft-8 (FrequencySummarizer.py, line 1)",
     "output_type": "error",
     "traceback": [
      "\u001b[0;36m  File \u001b[0;32m\"FrequencySummarizer.py\"\u001b[0;36m, line \u001b[0;32m1\u001b[0m\n\u001b[0;31m    # coding: uft-8\u001b[0m\n\u001b[0m                   ^\u001b[0m\n\u001b[0;31mSyntaxError\u001b[0m\u001b[0;31m:\u001b[0m encoding problem: uft-8\n"
     ]
    }
   ],
   "source": [
    "# coding: utf-8\n",
    "# Import and use customized class\n",
    "from FrequencySummarizer import FrequencySummarizer"
   ]
  },
  {
   "cell_type": "code",
   "execution_count": null,
   "metadata": {
    "collapsed": true
   },
   "outputs": [],
   "source": []
  }
 ],
 "metadata": {
  "kernelspec": {
   "display_name": "Python 2",
   "language": "python",
   "name": "python2"
  },
  "language_info": {
   "codemirror_mode": {
    "name": "ipython",
    "version": 2
   },
   "file_extension": ".py",
   "mimetype": "text/x-python",
   "name": "python",
   "nbconvert_exporter": "python",
   "pygments_lexer": "ipython2",
   "version": "2.7.13"
  }
 },
 "nbformat": 4,
 "nbformat_minor": 0
}
