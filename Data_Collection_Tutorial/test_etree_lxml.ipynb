{
 "cells": [
  {
   "cell_type": "markdown",
   "metadata": {},
   "source": [
    "Check how etree in lxml package works"
   ]
  },
  {
   "cell_type": "code",
   "execution_count": 1,
   "metadata": {
    "collapsed": true
   },
   "outputs": [],
   "source": [
    "from six.moves import urllib\n",
    "from lxml import etree\n",
    "import pprint"
   ]
  },
  {
   "cell_type": "code",
   "execution_count": 2,
   "metadata": {
    "collapsed": true
   },
   "outputs": [],
   "source": [
    "url = \"http://www.gooseeker.com/cn/forum/7\"\n",
    "xslt_format_file = \"xslt_bbs.xml\""
   ]
  },
  {
   "cell_type": "code",
   "execution_count": 3,
   "metadata": {
    "collapsed": false
   },
   "outputs": [
    {
     "name": "stdout",
     "output_type": "stream",
     "text": [
      "<Element html at 0x104bca1b8>\n"
     ]
    }
   ],
   "source": [
    "conn = urllib.request.urlopen(url)\n",
    "doc = etree.HTML(conn.read())\n",
    "pprint.pprint(doc)"
   ]
  },
  {
   "cell_type": "code",
   "execution_count": 4,
   "metadata": {
    "collapsed": false
   },
   "outputs": [],
   "source": [
    "xslt_file = open(xslt_format_file, 'r')\n",
    "xslt_format = xslt_file.read()\n",
    "#pprint.pprint(xslt_format)"
   ]
  },
  {
   "cell_type": "code",
   "execution_count": 5,
   "metadata": {
    "collapsed": false
   },
   "outputs": [
    {
     "name": "stdout",
     "output_type": "stream",
     "text": [
      "<Element {http://www.w3.org/1999/XSL/Transform}stylesheet at 0x104c75a70>\n"
     ]
    }
   ],
   "source": [
    "xslt_root = etree.XML(xslt_format)\n",
    "print xslt_root"
   ]
  },
  {
   "cell_type": "code",
   "execution_count": 6,
   "metadata": {
    "collapsed": false
   },
   "outputs": [
    {
     "name": "stdout",
     "output_type": "stream",
     "text": [
      "<lxml.etree.XSLT object at 0x104bd0830>\n"
     ]
    }
   ],
   "source": [
    "xslt_transform = etree.XSLT(xslt_root)\n",
    "print xslt_transform"
   ]
  },
  {
   "cell_type": "code",
   "execution_count": 7,
   "metadata": {
    "collapsed": false
   },
   "outputs": [
    {
     "name": "stdout",
     "output_type": "stream",
     "text": [
      "<?xml version=\"1.0\"?>\n",
      "<论坛列表><item><标题>翻页时重复抓取同一页</标题><发帖人>by yiwanghoushiyi</发帖人><帖子详细链接>/cn/node/2323</帖子详细链接><回复数>2</回复数><发帖时间>1 year 15 weeks ago</发帖时间><最后回复时间>1 year 12 weeks ago</最后回复时间></item><item><标题>翻页抓取</标题><发帖人>by Iyre1210</发帖人><帖子详细链接>/cn/node/1974</帖子详细链接><回复数>4</回复数><发帖时间>2 years 39 weeks ago</发帖时间><最后回复时间>1 year 16 weeks ago</最后回复时间></item><item><标题>自动翻页失败</标题><发帖人>by yiwanghoushiyi</发帖人><帖子详细链接>/cn/node/2319</帖子详细链接><回复数>3</回复数><发帖时间>1 year 17 weeks ago</发帖时间><最后回复时间>1 year 16 weeks ago</最后回复时间></item><item><标题>如何抓取QQ群聊天记录内容，然后自动更新到自己的网站上。</标题><发帖人>by yn0870</发帖人><帖子详细链接>/cn/node/2318</帖子详细链接><回复数>0</回复数><发帖时间>1 year 17 weeks ago</发帖时间><最后回复时间>n/a</最后回复时间></item><item><标题>抓取京东评论出现问题</标题><发帖人>by yiwanghoushiyi</发帖人><帖子详细链接>/cn/node/2316</帖子详细链接><回复数>1</回复数><发帖时间>1 year 18 weeks ago</发帖时间><最后回复时间>1 year 17 weeks ago</最后回复时间></item><item><标题>信息属性的映射问题</标题><发帖人>by janeeyre1964</发帖人><帖子详细链接>/cn/node/2310</帖子详细链接><回复数>4</回复数><发帖时间>1 year 22 weeks ago</发帖时间><最后回复时间>1 year 17 weeks ago</最后回复时间></item><item><标题>这个页面抓取看是简单，其实比较难</标题><发帖人>by gthinker</发帖人><帖子详细链接>/cn/node/2315</帖子详细链接><回复数>1</回复数><发帖时间>1 year 20 weeks ago</发帖时间><最后回复时间>1 year 20 weeks ago</最后回复时间></item><item><标题>淘宝交易记录爬取</标题><发帖人>by janeeyre1964</发帖人><帖子详细链接>/cn/node/2312</帖子详细链接><回复数>5</回复数><发帖时间>1 year 21 weeks ago</发帖时间><最后回复时间>1 year 21 weeks ago</最后回复时间></item><item><标题>无法定位容器No.0</标题><发帖人>by janeeyre1964</发帖人><帖子详细链接>/cn/node/2311</帖子详细链接><回复数>4</回复数><发帖时间>1 year 21 weeks ago</发帖时间><最后回复时间>1 year 21 weeks ago</最后回复时间></item><item><标题>关于二级页面抓取的URL识别问题</标题><发帖人>by dcer</发帖人><帖子详细链接>/cn/node/2302</帖子详细链接><回复数>2</回复数><发帖时间>1 year 33 weeks ago</发帖时间><最后回复时间>1 year 33 weeks ago</最后回复时间></item><item><标题>关于反爬虫策略</标题><发帖人>by xiaohu4190</发帖人><帖子详细链接>/cn/node/2300</帖子详细链接><回复数>1</回复数><发帖时间>1 year 35 weeks ago</发帖时间><最后回复时间>1 year 33 weeks ago</最后回复时间></item><item><标题>百度提取到第二页就停止，腾讯地图都是javascript:void(0)怎么提取</标题><发帖人>by gthinker</发帖人><帖子详细链接>/cn/node/2299</帖子详细链接><回复数>0</回复数><发帖时间>1 year 36 weeks ago</发帖时间><最后回复时间>n/a</最后回复时间></item><item><标题>同一个主题可以对结构相同的两个网页提取信息吗？</标题><发帖人>by hustszh</发帖人><帖子详细链接>/cn/node/2296</帖子详细链接><回复数>1</回复数><发帖时间>1 year 37 weeks ago</发帖时间><最后回复时间>1 year 37 weeks ago</最后回复时间></item><item><标题>tmall商品的交易记录，现在又多了一个“查看更多历史记录”，怎么处理？</标题><发帖人>by hustszh</发帖人><帖子详细链接>/cn/node/2297</帖子详细链接><回复数>2</回复数><发帖时间>1 year 37 weeks ago</发帖时间><最后回复时间>1 year 37 weeks ago</最后回复时间></item><item><标题>Fuller老大，我的MetaStudio和DataScraper无法登陆</标题><发帖人>by hwhwhwzsh</发帖人><帖子详细链接>/cn/node/2293</帖子详细链接><回复数>3</回复数><发帖时间>1 year 38 weeks ago</发帖时间><最后回复时间>1 year 38 weeks ago</最后回复时间></item><item><标题>求教层级不定的js目录树抓取方法</标题><发帖人>by sojod</发帖人><帖子详细链接>/cn/node/2295</帖子详细链接><回复数>0</回复数><发帖时间>1 year 38 weeks ago</发帖时间><最后回复时间>n/a</最后回复时间></item><item><标题>新浪微博的转发数和评论数的class值和结构基本一样，请问，有什么方法可以解决这个问题吗？谢谢</标题><发帖人>by hwhwhwzsh</发帖人><帖子详细链接>/cn/node/2291</帖子详细链接><回复数>1</回复数><发帖时间>1 year 39 weeks ago</发帖时间><最后回复时间>1 year 39 weeks ago</最后回复时间></item><item><标题>Fuller大神，能否抓取新浪微博中每条微博发布者的关注数、粉丝数、微博数</标题><发帖人>by hwhwhwzsh</发帖人><帖子详细链接>/cn/node/2292</帖子详细链接><回复数>1</回复数><发帖时间>1 year 39 weeks ago</发帖时间><最后回复时间>1 year 39 weeks ago</最后回复时间></item><item><标题>请老大帮忙看看信息结构和信息提取指令文件（主题名：福喜-新浪微博，用户：hwhwhwzsh）的问题</标题><发帖人>by hwhwhwzsh</发帖人><帖子详细链接>/cn/node/2290</帖子详细链接><回复数>2</回复数><发帖时间>1 year 40 weeks ago</发帖时间><最后回复时间>1 year 39 weeks ago</最后回复时间></item><item><标题>麻烦大神帮忙解决</标题><发帖人>by kiven_dulaine</发帖人><帖子详细链接>/cn/node/2287</帖子详细链接><回复数>0</回复数><发帖时间>1 year 40 weeks ago</发帖时间><最后回复时间>n/a</最后回复时间></item><item><标题>抓取新浪微博只能抓两页</标题><发帖人>by du576494773</发帖人><帖子详细链接>/cn/node/2286</帖子详细链接><回复数>0</回复数><发帖时间>1 year 41 weeks ago</发帖时间><最后回复时间>n/a</最后回复时间></item><item><标题>有关微博抓取的几个问题</标题><发帖人>by alice413</发帖人><帖子详细链接>/cn/node/2250</帖子详细链接><回复数>8</回复数><发帖时间>1 year 50 weeks ago</发帖时间><最后回复时间>1 year 41 weeks ago</最后回复时间></item><item><标题>只能显示前N页的数据该怎么爬</标题><发帖人>by lunachen</发帖人><帖子详细链接>/cn/node/2276</帖子详细链接><回复数>3</回复数><发帖时间>1 year 46 weeks ago</发帖时间><最后回复时间>1 year 46 weeks ago</最后回复时间></item><item><标题>怎样获得淘宝评论第2个主题的结果？？？？</标题><发帖人>by caiweiye</发帖人><帖子详细链接>/cn/node/2177</帖子详细链接><回复数>1</回复数><发帖时间>2 years 9 weeks ago</发帖时间><最后回复时间>2 years 9 weeks ago</最后回复时间></item><item><标题>网站ajax数据包抓取问题</标题><发帖人>by dly1911618</发帖人><帖子详细链接>/cn/node/2176</帖子详细链接><回复数>1</回复数><发帖时间>2 years 9 weeks ago</发帖时间><最后回复时间>2 years 9 weeks ago</最后回复时间></item></论坛列表>\n",
      "\n"
     ]
    }
   ],
   "source": [
    "result = xslt_transform(doc)\n",
    "print result"
   ]
  },
  {
   "cell_type": "code",
   "execution_count": null,
   "metadata": {
    "collapsed": true
   },
   "outputs": [],
   "source": []
  }
 ],
 "metadata": {
  "kernelspec": {
   "display_name": "Python 2",
   "language": "python",
   "name": "python2"
  },
  "language_info": {
   "codemirror_mode": {
    "name": "ipython",
    "version": 2
   },
   "file_extension": ".py",
   "mimetype": "text/x-python",
   "name": "python",
   "nbconvert_exporter": "python",
   "pygments_lexer": "ipython2",
   "version": "2.7.12"
  }
 },
 "nbformat": 4,
 "nbformat_minor": 0
}
