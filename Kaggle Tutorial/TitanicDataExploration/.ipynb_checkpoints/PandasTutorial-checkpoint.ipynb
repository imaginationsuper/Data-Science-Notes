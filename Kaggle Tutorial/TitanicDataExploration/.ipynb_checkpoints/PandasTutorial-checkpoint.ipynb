{
 "cells": [
  {
   "cell_type": "code",
   "execution_count": 1,
   "metadata": {
    "collapsed": false
   },
   "outputs": [],
   "source": [
    "import pandas as pd \n",
    "# Load the data\n",
    "dsProgReports = pd.read_csv(\"./NYC_Schools/School_Progress_Reports_-_All_Schools_-_2009-10.csv\")\n",
    "dsDistrict = pd.read_csv(\"./NYC_Schools/School_District_Breakdowns.csv\")\n",
    "dsClassSize = pd.read_csv(\"./NYC_Schools/2009-10_Class_Size_-_School-level_Detail.csv\")\n",
    "dsAttendEnroll = pd.read_csv(\"./NYC_Schools/School_Attendance_and_Enrollment_Statistics_by_District__2010-11_.csv\")[:-2]#last two rows are bad\n",
    "dsSATs = pd.read_csv(\"./NYC_Schools/SAT__College_Board__2010_School_Level_Results.csv\") # Dependent"
   ]
  },
  {
   "cell_type": "code",
   "execution_count": 2,
   "metadata": {
    "collapsed": false
   },
   "outputs": [
    {
     "name": "stdout",
     "output_type": "stream",
     "text": [
      "<class 'pandas.core.frame.DataFrame'>\n",
      "Int64Index: 460 entries, 0 to 459\n",
      "Data columns (total 6 columns):\n",
      "DBN                      460 non-null object\n",
      "School Name              460 non-null object\n",
      "Number of Test Takers    460 non-null object\n",
      "Critical Reading Mean    460 non-null object\n",
      "Mathematics Mean         460 non-null object\n",
      "Writing Mean             460 non-null object\n",
      "dtypes: object(6)\n",
      "memory usage: 25.2+ KB\n"
     ]
    }
   ],
   "source": [
    "dsSATs.info()"
   ]
  },
  {
   "cell_type": "code",
   "execution_count": 3,
   "metadata": {
    "collapsed": false
   },
   "outputs": [
    {
     "data": {
      "text/html": [
       "<div>\n",
       "<table border=\"1\" class=\"dataframe\">\n",
       "  <thead>\n",
       "    <tr style=\"text-align: right;\">\n",
       "      <th></th>\n",
       "      <th>0</th>\n",
       "      <th>1</th>\n",
       "      <th>2</th>\n",
       "      <th>3</th>\n",
       "      <th>4</th>\n",
       "    </tr>\n",
       "  </thead>\n",
       "  <tbody>\n",
       "    <tr>\n",
       "      <th>DBN</th>\n",
       "      <td>01M015</td>\n",
       "      <td>01M019</td>\n",
       "      <td>01M020</td>\n",
       "      <td>01M034</td>\n",
       "      <td>01M063</td>\n",
       "    </tr>\n",
       "    <tr>\n",
       "      <th>DBN</th>\n",
       "      <td>01M292</td>\n",
       "      <td>01M448</td>\n",
       "      <td>01M450</td>\n",
       "      <td>01M458</td>\n",
       "      <td>01M509</td>\n",
       "    </tr>\n",
       "    <tr>\n",
       "      <th>SCHOOL CODE</th>\n",
       "      <td>M015</td>\n",
       "      <td>M015</td>\n",
       "      <td>M015</td>\n",
       "      <td>M015</td>\n",
       "      <td>M015</td>\n",
       "    </tr>\n",
       "  </tbody>\n",
       "</table>\n",
       "</div>"
      ],
      "text/plain": [
       "                  0       1       2       3       4\n",
       "DBN          01M015  01M019  01M020  01M034  01M063\n",
       "DBN          01M292  01M448  01M450  01M458  01M509\n",
       "SCHOOL CODE    M015    M015    M015    M015    M015"
      ]
     },
     "execution_count": 3,
     "metadata": {},
     "output_type": "execute_result"
    }
   ],
   "source": [
    "pd.DataFrame(data=[dsProgReports['DBN'].take(range(5)), dsSATs['DBN'].take(range(5)), dsClassSize['SCHOOL CODE'].take(range(5))])"
   ]
  },
  {
   "cell_type": "code",
   "execution_count": 4,
   "metadata": {
    "collapsed": false
   },
   "outputs": [
    {
     "data": {
      "text/html": [
       "<div>\n",
       "<table border=\"1\" class=\"dataframe\">\n",
       "  <thead>\n",
       "    <tr style=\"text-align: right;\">\n",
       "      <th></th>\n",
       "      <th>0</th>\n",
       "      <th>1</th>\n",
       "      <th>2</th>\n",
       "      <th>3</th>\n",
       "      <th>4</th>\n",
       "    </tr>\n",
       "  </thead>\n",
       "  <tbody>\n",
       "    <tr>\n",
       "      <th>DBN</th>\n",
       "      <td>M015</td>\n",
       "      <td>M019</td>\n",
       "      <td>M020</td>\n",
       "      <td>M034</td>\n",
       "      <td>M063</td>\n",
       "    </tr>\n",
       "    <tr>\n",
       "      <th>DBN</th>\n",
       "      <td>M292</td>\n",
       "      <td>M448</td>\n",
       "      <td>M450</td>\n",
       "      <td>M458</td>\n",
       "      <td>M509</td>\n",
       "    </tr>\n",
       "    <tr>\n",
       "      <th>SCHOOL CODE</th>\n",
       "      <td>M015</td>\n",
       "      <td>M015</td>\n",
       "      <td>M015</td>\n",
       "      <td>M015</td>\n",
       "      <td>M015</td>\n",
       "    </tr>\n",
       "  </tbody>\n",
       "</table>\n",
       "</div>"
      ],
      "text/plain": [
       "                0     1     2     3     4\n",
       "DBN          M015  M019  M020  M034  M063\n",
       "DBN          M292  M448  M450  M458  M509\n",
       "SCHOOL CODE  M015  M015  M015  M015  M015"
      ]
     },
     "execution_count": 4,
     "metadata": {},
     "output_type": "execute_result"
    }
   ],
   "source": [
    "# Strip the first two characters off the DBNs so we can join to School Code\n",
    "dsProgReports.DBN = dsProgReports.DBN.map(lambda x: x[2:])\n",
    "dsSATs.DBN = dsSATs.DBN.map(lambda x: x[2:])\n",
    "# We can now see the keys match\n",
    "pd.DataFrame(data=[dsProgReports['DBN'].take(range(5)), dsSATs['DBN'].take(range(5)), dsClassSize['SCHOOL CODE'].take(range(5))])"
   ]
  },
  {
   "cell_type": "code",
   "execution_count": 5,
   "metadata": {
    "collapsed": false
   },
   "outputs": [
    {
     "data": {
      "text/html": [
       "<div>\n",
       "<table border=\"1\" class=\"dataframe\">\n",
       "  <thead>\n",
       "    <tr style=\"text-align: right;\">\n",
       "      <th></th>\n",
       "      <th>0</th>\n",
       "      <th>1</th>\n",
       "      <th>2</th>\n",
       "    </tr>\n",
       "  </thead>\n",
       "  <tbody>\n",
       "    <tr>\n",
       "      <th>DISTRICT</th>\n",
       "      <td>1</td>\n",
       "      <td>1</td>\n",
       "      <td>1</td>\n",
       "    </tr>\n",
       "    <tr>\n",
       "      <th>JURISDICTION NAME</th>\n",
       "      <td>CSD 01 Manhattan</td>\n",
       "      <td>CSD 02 Manhattan</td>\n",
       "      <td>CSD 03 Manhattan</td>\n",
       "    </tr>\n",
       "    <tr>\n",
       "      <th>District</th>\n",
       "      <td>DISTRICT 01</td>\n",
       "      <td>DISTRICT 02</td>\n",
       "      <td>DISTRICT 03</td>\n",
       "    </tr>\n",
       "  </tbody>\n",
       "</table>\n",
       "</div>"
      ],
      "text/plain": [
       "                                  0                 1                 2\n",
       "DISTRICT                          1                 1                 1\n",
       "JURISDICTION NAME  CSD 01 Manhattan  CSD 02 Manhattan  CSD 03 Manhattan\n",
       "District                DISTRICT 01       DISTRICT 02       DISTRICT 03"
      ]
     },
     "execution_count": 5,
     "metadata": {},
     "output_type": "execute_result"
    }
   ],
   "source": [
    "# Show the key mismatches\n",
    "# For variety's sake, using slicing ([:3]) syntax instead of .take()\n",
    "pd.DataFrame(data=[dsProgReports['DISTRICT'][:3], dsDistrict['JURISDICTION NAME'][:3], dsAttendEnroll['District'][:3]])"
   ]
  },
  {
   "cell_type": "code",
   "execution_count": 6,
   "metadata": {
    "collapsed": false
   },
   "outputs": [
    {
     "data": {
      "text/html": [
       "<div>\n",
       "<table border=\"1\" class=\"dataframe\">\n",
       "  <thead>\n",
       "    <tr style=\"text-align: right;\">\n",
       "      <th></th>\n",
       "      <th>0</th>\n",
       "      <th>1</th>\n",
       "      <th>2</th>\n",
       "    </tr>\n",
       "  </thead>\n",
       "  <tbody>\n",
       "    <tr>\n",
       "      <th>DISTRICT</th>\n",
       "      <td>1</td>\n",
       "      <td>1</td>\n",
       "      <td>1</td>\n",
       "    </tr>\n",
       "    <tr>\n",
       "      <th>JURISDICTION NAME</th>\n",
       "      <td>1</td>\n",
       "      <td>2</td>\n",
       "      <td>3</td>\n",
       "    </tr>\n",
       "    <tr>\n",
       "      <th>District</th>\n",
       "      <td>1</td>\n",
       "      <td>2</td>\n",
       "      <td>3</td>\n",
       "    </tr>\n",
       "  </tbody>\n",
       "</table>\n",
       "</div>"
      ],
      "text/plain": [
       "                   0  1  2\n",
       "DISTRICT           1  1  1\n",
       "JURISDICTION NAME  1  2  3\n",
       "District           1  2  3"
      ]
     },
     "execution_count": 6,
     "metadata": {},
     "output_type": "execute_result"
    }
   ],
   "source": [
    "# Extract well-formed district key values\n",
    "# Note the astype(int) at the end of these lines to coerce the column to a numeric type\n",
    "import re\n",
    "dsDistrict['JURISDICTION NAME'] = dsDistrict['JURISDICTION NAME'].map(lambda x: re.match(r'([A-Za-z]*\\s)([0-9]*)', x).group(2)).astype(int)\n",
    "dsAttendEnroll.District = dsAttendEnroll.District.map(lambda x: x[-2:]).astype(int)\n",
    "# We can now see the keys match\n",
    "pd.DataFrame(data=[dsProgReports['DISTRICT'][:3], dsDistrict['JURISDICTION NAME'][:3], dsAttendEnroll['District'][:3]])"
   ]
  },
  {
   "cell_type": "code",
   "execution_count": 7,
   "metadata": {
    "collapsed": true
   },
   "outputs": [],
   "source": [
    "# Reindexing\n",
    "dsProgReports = dsProgReports.set_index('DBN')\n",
    "dsDistrict = dsDistrict.set_index('JURISDICTION NAME')\n",
    "dsClassSize = dsClassSize.set_index('SCHOOL CODE')\n",
    "dsAttendEnroll = dsAttendEnroll.set_index('District')\n",
    "dsSATs = dsSATs.set_index('DBN')"
   ]
  },
  {
   "cell_type": "code",
   "execution_count": 8,
   "metadata": {
    "collapsed": false
   },
   "outputs": [
    {
     "data": {
      "text/plain": [
       "DBN\n",
       "M292    391\n",
       "M448    394\n",
       "M450    418\n",
       "M458    385\n",
       "M509      s\n",
       "Name: Critical Reading Mean, dtype: object"
      ]
     },
     "execution_count": 8,
     "metadata": {},
     "output_type": "execute_result"
    }
   ],
   "source": [
    "# We can seet the bad value\n",
    "dsSATs['Critical Reading Mean'].take(range(5))"
   ]
  },
  {
   "cell_type": "code",
   "execution_count": 9,
   "metadata": {
    "collapsed": false
   },
   "outputs": [
    {
     "data": {
      "text/plain": [
       "DBN\n",
       "M292    391\n",
       "M448    394\n",
       "M450    418\n",
       "M458    385\n",
       "M515    314\n",
       "Name: Critical Reading Mean, dtype: int64"
      ]
     },
     "execution_count": 9,
     "metadata": {},
     "output_type": "execute_result"
    }
   ],
   "source": [
    "# Now we filter it out\n",
    "# We create a boolean vector mask. Open question as to whether this semantically ideal...\n",
    "mask = dsSATs['Number of Test Takers'].map(lambda x: x != 's')\n",
    "dsSATs = dsSATs[mask]\n",
    "# Cast fields to integers. Ideally we should not need to be this explicit\n",
    "dsSATs['Number of Test Takers'] = dsSATs['Number of Test Takers'].astype(int)\n",
    "dsSATs['Critical Reading Mean'] = dsSATs['Critical Reading Mean'].astype(int)\n",
    "dsSATs['Writing Mean'] = dsSATs['Writing Mean'].astype(int)\n",
    "# We can see those values are gone\n",
    "dsSATs['Critical Reading Mean'].take(range(5))"
   ]
  },
  {
   "cell_type": "code",
   "execution_count": 10,
   "metadata": {
    "collapsed": false
   },
   "outputs": [
    {
     "name": "stdout",
     "output_type": "stream",
     "text": [
      "Index([u'BORO', u'CSD', u'SCHOOL NAME', u'GRADE ', u'PROGRAM TYPE',\n",
      "       u'CORE SUBJECT (MS CORE and 9-12 ONLY)',\n",
      "       u'CORE COURSE (MS CORE and 9-12 ONLY)', u'SERVICE CATEGORY(K-9* ONLY)',\n",
      "       u'NUMBER OF CLASSES', u'TOTAL REGISTER', u'AVERAGE CLASS SIZE',\n",
      "       u'SIZE OF SMALLEST CLASS', u'SIZE OF LARGEST CLASS', u'DATA SOURCE',\n",
      "       u'SCHOOLWIDE PUPIL-TEACHER RATIO'],\n",
      "      dtype='object')\n",
      "[['M' 1 'P.S. 015 ROBERTO CLEMENTE' '0K' 'GEN ED' '-' '-' '-' 1.0 21.0 21.0\n",
      "  21.0 21.0 'ATS' nan]\n",
      " ['M' 1 'P.S. 015 ROBERTO CLEMENTE' '0K' 'CTT' '-' '-' '-' 1.0 21.0 21.0\n",
      "  21.0 21.0 'ATS' nan]\n",
      " ['M' 1 'P.S. 015 ROBERTO CLEMENTE' nan nan nan nan nan nan nan nan nan nan\n",
      "  nan 8.9]]\n"
     ]
    }
   ],
   "source": [
    "# The shape of the data \n",
    "print dsClassSize.columns\n",
    "print dsClassSize.take([0,1,10]).values"
   ]
  },
  {
   "cell_type": "code",
   "execution_count": 11,
   "metadata": {
    "collapsed": false
   },
   "outputs": [
    {
     "name": "stdout",
     "output_type": "stream",
     "text": [
      "Index([u'NUMBER OF CLASSES.max', u'TOTAL REGISTER.max',\n",
      "       u'AVERAGE CLASS SIZE.max', u'SIZE OF SMALLEST CLASS.max',\n",
      "       u'SIZE OF LARGEST CLASS.max', u'NUMBER OF CLASSES.min',\n",
      "       u'TOTAL REGISTER.min', u'AVERAGE CLASS SIZE.min',\n",
      "       u'SIZE OF SMALLEST CLASS.min', u'SIZE OF LARGEST CLASS.min',\n",
      "       u'NUMBER OF CLASSES.mean', u'TOTAL REGISTER.mean',\n",
      "       u'AVERAGE CLASS SIZE.mean', u'SIZE OF SMALLEST CLASS.mean',\n",
      "       u'SIZE OF LARGEST CLASS.mean', u'SCHOOLWIDE PUPIL-TEACHER RATIO'],\n",
      "      dtype='object')\n"
     ]
    }
   ],
   "source": [
    "# Extracting the Pupil-Teacher Ratio\n",
    "# Take the column\n",
    "dsPupilTeacher = dsClassSize.filter(['SCHOOLWIDE PUPIL-TEACHER RATIO'])\n",
    "# And filter out blank rows\n",
    "mask = dsPupilTeacher['SCHOOLWIDE PUPIL-TEACHER RATIO'].map(lambda x: x>0)\n",
    "dsPupilTeacher = dsPupilTeacher[mask]\n",
    "# Then drop from the original dataset\n",
    "dsClassSize = dsClassSize.drop('SCHOOLWIDE PUPIL-TEACHER RATIO', axis=1)\n",
    "# Drop non-numeric fields\n",
    "dsClassSize = dsClassSize.drop(['BORO','CSD','SCHOOL NAME','GRADE ','PROGRAM TYPE',\\\n",
    "'CORE SUBJECT (MS CORE and 9-12 ONLY)','CORE COURSE (MS CORE and 9-12 ONLY)',\\\n",
    "'SERVICE CATEGORY(K-9* ONLY)','DATA SOURCE'], axis=1)\n",
    "# Build feature from dsClassSize\n",
    "# In this case, we'll take the max, min and mean\n",
    "# Semantically equivalent to seleect min(*), max(*), mean(*) from dsClassSize group by SCHOOL NAME\n",
    "# Note that SCHOOL NAME is not referenced explicityly below because it is the index of the dataframe\n",
    "import numpy as np\n",
    "grouped = dsClassSize.groupby(level=0)\n",
    "dsClassSize = grouped.aggregate(np.max).\\\n",
    "    join(grouped.aggregate(np.min), lsuffix=\".max\").\\\n",
    "    join(grouped.aggregate(np.mean), lsuffix=\".min\", rsuffix=\".mean\").\\\n",
    "    join(dsPupilTeacher)\n",
    "print dsClassSize.columns\n",
    "#print grouped.describe()"
   ]
  },
  {
   "cell_type": "code",
   "execution_count": 12,
   "metadata": {
    "collapsed": false
   },
   "outputs": [],
   "source": [
    "mask = dsProgReports['SCHOOL LEVEL*'].map(lambda x: x == \"High School\")\n",
    "dsProgReports = dsProgReports[mask]"
   ]
  },
  {
   "cell_type": "code",
   "execution_count": 13,
   "metadata": {
    "collapsed": true
   },
   "outputs": [],
   "source": [
    "final = dsSATs.join(dsClassSize).\\\n",
    "join(dsProgReports).\\\n",
    "merge(dsDistrict, left_on='DISTRICT', right_index=True).\\\n",
    "merge(dsAttendEnroll, left_on='DISTRICT', right_index=True)"
   ]
  },
  {
   "cell_type": "code",
   "execution_count": 14,
   "metadata": {
    "collapsed": false,
    "scrolled": true
   },
   "outputs": [
    {
     "data": {
      "text/plain": [
       "School Name                      object\n",
       "Mathematics Mean                 object\n",
       "SCHOOL                           object\n",
       "PRINCIPAL                        object\n",
       "PROGRESS REPORT TYPE             object\n",
       "SCHOOL LEVEL*                    object\n",
       "2009-2010 OVERALL GRADE          object\n",
       "2009-2010 ENVIRONMENT GRADE      object\n",
       "2009-2010 PERFORMANCE GRADE      object\n",
       "2009-2010 PROGRESS GRADE         object\n",
       "2008-09 PROGRESS REPORT GRADE    object\n",
       "YTD % Attendance (Avg)           object\n",
       "dtype: object"
      ]
     },
     "execution_count": 14,
     "metadata": {},
     "output_type": "execute_result"
    }
   ],
   "source": [
    "final.dtypes[final.dtypes.map(lambda x: x=='object')]"
   ]
  },
  {
   "cell_type": "code",
   "execution_count": 15,
   "metadata": {
    "collapsed": false
   },
   "outputs": [
    {
     "data": {
      "text/plain": [
       "Mathematics Mean                 object\n",
       "2009-2010 OVERALL GRADE          object\n",
       "2009-2010 ENVIRONMENT GRADE      object\n",
       "2009-2010 PERFORMANCE GRADE      object\n",
       "2009-2010 PROGRESS GRADE         object\n",
       "2008-09 PROGRESS REPORT GRADE    object\n",
       "dtype: object"
      ]
     },
     "execution_count": 15,
     "metadata": {},
     "output_type": "execute_result"
    }
   ],
   "source": [
    "# Just drop string columns\n",
    "# In theory we could build features out of some of these, but it is impractical here\n",
    "final = final.drop(['School Name','SCHOOL','PRINCIPAL','SCHOOL LEVEL*','PROGRESS REPORT TYPE'],axis=1)\n",
    "# Remove % signs and convert to float\n",
    "final['YTD % Attendance (Avg)'] = final['YTD % Attendance (Avg)'].map(lambda x: x.replace(\"%\", \"\")).astype(float)\n",
    "# The last few columns we still have to deal with\n",
    "final.dtypes[final.dtypes.map(lambda x: x=='object')]"
   ]
  },
  {
   "cell_type": "code",
   "execution_count": 16,
   "metadata": {
    "collapsed": false
   },
   "outputs": [
    {
     "name": "stderr",
     "output_type": "stream",
     "text": [
      "/Users/Jerry/anaconda/lib/python2.7/site-packages/numpy/lib/arraysetops.py:200: FutureWarning: numpy not_equal will not check object identity in the future. The comparison did not return the same result as suggested by the identity (`is`)) and will change.\n",
      "  flag = np.concatenate(([True], aux[1:] != aux[:-1]))\n"
     ]
    }
   ],
   "source": [
    "gradeCols = ['2009-2010 OVERALL GRADE','2009-2010 ENVIRONMENT GRADE','2009-2010 PERFORMANCE GRADE','2009-2010 PROGRESS GRADE','2008-09 PROGRESS REPORT GRADE']\n",
    "grades = np.unique(final[gradeCols].values) # [nan, A, B, C, D, F]\n",
    "for c in gradeCols:\n",
    "    for g in grades:\n",
    "        final = final.join(pd.Series(data=final[c].map(lambda x: 1 if x is g else 0), name=c + \"_is_\" + str(g))) \n",
    "final = final.drop(gradeCols, axis=1)\n",
    "# To generate csv files\n",
    "final.drop(['Critical Reading Mean', 'Mathematics Mean', 'Writing Mean'], axis=1).to_csv('./NYC_Schools/train.csv')\n",
    "final.filter(['Critical Reading Mean', 'Mathematics Mean', 'Writing Mean']).to_csv('./NYC_Schools/target.csv')"
   ]
  },
  {
   "cell_type": "code",
   "execution_count": 17,
   "metadata": {
    "collapsed": false
   },
   "outputs": [
    {
     "name": "stdout",
     "output_type": "stream",
     "text": [
      "RMSE: 81.4630655353\n",
      "10 Most Important Variables:\n",
      "('PEER INDEX*', 0.84144300585913601)\n",
      "('2009-2010 ENVIRONMENT CATEGORY SCORE', 0.022807061336079407)\n",
      "('SCHOOLWIDE PUPIL-TEACHER RATIO', 0.0095309032653001606)\n",
      "('2009-2010 PERFORMANCE CATEGORY SCORE', 0.0091793371545553955)\n",
      "('Number of Test Takers', 0.0084008086535322119)\n",
      "('TOTAL REGISTER.min', 0.0068761259834743561)\n",
      "('DISTRICT', 0.0056017988794162341)\n",
      "('NUMBER OF CLASSES.mean', 0.0052155821376175934)\n",
      "('AVERAGE CLASS SIZE.mean', 0.0049883280491015364)\n",
      "('2009-2010 PROGRESS CATEGORY SCORE', 0.0049757137173666761)\n"
     ]
    },
    {
     "name": "stderr",
     "output_type": "stream",
     "text": [
      "/Users/Jerry/anaconda/lib/python2.7/site-packages/ipykernel/__main__.py:10: DataConversionWarning: A column-vector y was passed when a 1d array was expected. Please change the shape of y to (n_samples,), for example using ravel().\n"
     ]
    }
   ],
   "source": [
    "from __future__ import print_function\n",
    "import math\n",
    "from sklearn.ensemble import RandomForestRegressor\n",
    "\n",
    "final = final.dropna(axis=0)\n",
    "target = final.filter(['Critical Reading Mean'])\n",
    "#We drop all three dependent variables because we don't want them used when trying to make a prediction.\n",
    "train = final.drop(['Critical Reading Mean','Writing Mean','Mathematics Mean'],axis=1)\n",
    "model = RandomForestRegressor(n_estimators=100, n_jobs=-1)\n",
    "model.fit(train, target)\n",
    "\n",
    "predictions = np.array(model.predict(train))\n",
    "rmse = math.sqrt(np.mean((np.array(target.values) - predictions)**2))\n",
    "imp = sorted(zip(train.columns, model.feature_importances_), key=lambda tup: tup[1], reverse=True)\n",
    "print (\"RMSE: \" + str(rmse))\n",
    "print (\"10 Most Important Variables:\")\n",
    "print (*imp[:10], sep='\\n', end='\\n')"
   ]
  },
  {
   "cell_type": "code",
   "execution_count": null,
   "metadata": {
    "collapsed": true
   },
   "outputs": [],
   "source": []
  }
 ],
 "metadata": {
  "kernelspec": {
   "display_name": "Python 2",
   "language": "python",
   "name": "python2"
  },
  "language_info": {
   "codemirror_mode": {
    "name": "ipython",
    "version": 2
   },
   "file_extension": ".py",
   "mimetype": "text/x-python",
   "name": "python",
   "nbconvert_exporter": "python",
   "pygments_lexer": "ipython2",
   "version": "2.7.11"
  }
 },
 "nbformat": 4,
 "nbformat_minor": 0
}
